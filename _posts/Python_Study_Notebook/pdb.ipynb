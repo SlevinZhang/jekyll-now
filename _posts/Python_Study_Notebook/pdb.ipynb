{
 "cells": [
  {
   "cell_type": "markdown",
   "metadata": {},
   "source": [
    "### Pdb Commends"
   ]
  },
  {
   "cell_type": "markdown",
   "metadata": {},
   "source": [
    "pdb.set_trace()  \n",
    "n + enter 执行当前statement  \n",
    "unt + line_num 执行到the line with the line number  \n",
    "a if this line is a function, print the argument list of the function  \n",
    "\n",
    "enter 重复上一条debug命令  \n",
    "quit 或 q都可以用来退出  \n",
    "c 用来停止当前debug，然后程序继续执行,知道下一个set_trace停止  \n",
    "list 显示当前的代码块，来找到相关变量的名字  \n",
    "**函数debug**  \n",
    "s 让程序进入定义的函数中进行debug\n",
    "r 执行函数，返回函数调用的地方  \n",
    "  \n",
    "!var 使用!给变量重新赋值，来调试由于变量取值错误而带来的bug  \n",
    "\n",
    "b 在调试开始后，为代码动态添加断点  \n",
    "\n",
    "**独立调试**  \n",
    "可以将pdb独立出来，调试某个模块的代码\n",
    "pdb.run('mymodule.test()')\n",
    "\n",
    "\n",
    "### 进阶  \n",
    "1. 多线程调试  \n",
    "2. 使用pycharm调试  \n"
   ]
  },
  {
   "cell_type": "code",
   "execution_count": 2,
   "metadata": {},
   "outputs": [
    {
     "name": "stdout",
     "output_type": "stream",
     "text": [
      "--Return--\n",
      "> <ipython-input-2-b0e6bae58841>(4)<module>()->None\n",
      "-> pdb.set_trace()\n",
      "(Pdb) c\n",
      "--Return--\n",
      "> <ipython-input-2-b0e6bae58841>(8)<module>()->None\n",
      "-> pdb.set_trace()\n",
      "(Pdb) c\n",
      "aaabbbccc\n"
     ]
    }
   ],
   "source": [
    "import pdb\n",
    "import pdb \n",
    "a = \"aaa\"\n",
    "pdb.set_trace() \n",
    "b = \"bbb\"\n",
    "c = \"ccc\"\n",
    "final = a + b + c \n",
    "pdb.set_trace()\n",
    "print(final)"
   ]
  }
 ],
 "metadata": {
  "kernelspec": {
   "display_name": "Python [default]",
   "language": "python",
   "name": "python3"
  },
  "language_info": {
   "codemirror_mode": {
    "name": "ipython",
    "version": 3
   },
   "file_extension": ".py",
   "mimetype": "text/x-python",
   "name": "python",
   "nbconvert_exporter": "python",
   "pygments_lexer": "ipython3",
   "version": "3.6.2"
  }
 },
 "nbformat": 4,
 "nbformat_minor": 2
}
