{
 "cells": [
  {
   "cell_type": "markdown",
   "metadata": {},
   "source": [
    "### Pdb Commends"
   ]
  },
  {
   "cell_type": "markdown",
   "metadata": {},
   "source": [
    "pdb.set_trace()  \n",
    "n + enter 执行当前statement  \n",
    "enter 重复上一条debug命令  \n",
    "quit 或 q都可以用来退出  \n",
    "c 用来停止当前debug，然后程序继续执行"
   ]
  },
  {
   "cell_type": "code",
   "execution_count": 1,
   "metadata": {},
   "outputs": [
    {
     "ename": "SyntaxError",
     "evalue": "Missing parentheses in call to 'print' (<ipython-input-1-28a4f2dd92df>, line 9)",
     "output_type": "error",
     "traceback": [
      "\u001b[1;36m  File \u001b[1;32m\"<ipython-input-1-28a4f2dd92df>\"\u001b[1;36m, line \u001b[1;32m9\u001b[0m\n\u001b[1;33m    print final\u001b[0m\n\u001b[1;37m              ^\u001b[0m\n\u001b[1;31mSyntaxError\u001b[0m\u001b[1;31m:\u001b[0m Missing parentheses in call to 'print'\n"
     ]
    }
   ],
   "source": [
    "import pdb\n",
    "import pdb \n",
    "a = \"aaa\"\n",
    "pdb.set_trace() \n",
    "b = \"bbb\"\n",
    "c = \"ccc\"\n",
    "final = a + b + c \n",
    "pdb.set_trace()\n",
    "print(final)"
   ]
  }
 ],
 "metadata": {
  "kernelspec": {
   "display_name": "Python [default]",
   "language": "python",
   "name": "python3"
  },
  "language_info": {
   "codemirror_mode": {
    "name": "ipython",
    "version": 3
   },
   "file_extension": ".py",
   "mimetype": "text/x-python",
   "name": "python",
   "nbconvert_exporter": "python",
   "pygments_lexer": "ipython3",
   "version": "3.6.2"
  }
 },
 "nbformat": 4,
 "nbformat_minor": 2
}
